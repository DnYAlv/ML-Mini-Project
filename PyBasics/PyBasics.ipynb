{
  "nbformat": 4,
  "nbformat_minor": 0,
  "metadata": {
    "colab": {
      "name": "PyBasics.ipynb",
      "provenance": []
    },
    "kernelspec": {
      "name": "python3",
      "display_name": "Python 3"
    },
    "language_info": {
      "name": "python"
    }
  },
  "cells": [
    {
      "cell_type": "markdown",
      "metadata": {
        "id": "yItuyr93CVw7"
      },
      "source": [
        "# Challenge 1"
      ]
    },
    {
      "cell_type": "code",
      "metadata": {
        "colab": {
          "base_uri": "https://localhost:8080/"
        },
        "id": "AY95hLnbCT6z",
        "outputId": "0678bb03-4541-49dc-bc00-aeb1b5ddbe7a"
      },
      "source": [
        "num1 = int(input('First: '))\n",
        "num2 = int(input('Second: '))\n",
        "print(f'Sum: {num1+num2}')"
      ],
      "execution_count": 1,
      "outputs": [
        {
          "output_type": "stream",
          "text": [
            "First: 2\n",
            "Second: 3\n",
            "Sum: 5\n"
          ],
          "name": "stdout"
        }
      ]
    },
    {
      "cell_type": "markdown",
      "metadata": {
        "id": "KpXUs_mlDCIt"
      },
      "source": [
        "# Challenge 2"
      ]
    },
    {
      "cell_type": "code",
      "metadata": {
        "colab": {
          "base_uri": "https://localhost:8080/"
        },
        "id": "1ti7Phc-Cgtx",
        "outputId": "8da13f1d-573d-446b-d773-041d3023eb97"
      },
      "source": [
        "num = int(input('Input: '))\n",
        "result = 1\n",
        "for i in range (1,num+1):\n",
        "  result = result*i\n",
        "print(f'Factorial: {result}')"
      ],
      "execution_count": 3,
      "outputs": [
        {
          "output_type": "stream",
          "text": [
            "Input: 5\n",
            "Factorial: 120\n"
          ],
          "name": "stdout"
        }
      ]
    },
    {
      "cell_type": "markdown",
      "metadata": {
        "id": "5VjkJQg5DDeF"
      },
      "source": [
        "# Challenge 3"
      ]
    },
    {
      "cell_type": "code",
      "metadata": {
        "colab": {
          "base_uri": "https://localhost:8080/"
        },
        "id": "TH3bTfFBC_ET",
        "outputId": "c413ed33-a52f-47fb-97f9-5978e18b1531"
      },
      "source": [
        "n = int(input('Input: '))\n",
        "for l in range(n):\n",
        "  num = int(input())\n",
        "  if num > 1:  \n",
        "   for i in range(2,num):  \n",
        "       if (num % i) == 0:  \n",
        "           print(\"NO\")  \n",
        "           break  \n",
        "   else:  \n",
        "       print(\"YES\")  \n",
        "         \n",
        "  elif num <= 1:  \n",
        "    print(\"NO.\")  "
      ],
      "execution_count": 15,
      "outputs": [
        {
          "output_type": "stream",
          "text": [
            "Input: 6\n",
            "16\n",
            "NO\n",
            "127\n",
            "YES\n",
            "256\n",
            "NO\n",
            "513\n",
            "NO\n",
            "2048\n",
            "NO\n",
            "5097\n",
            "NO\n"
          ],
          "name": "stdout"
        }
      ]
    },
    {
      "cell_type": "markdown",
      "metadata": {
        "id": "MNbysi7BFYvT"
      },
      "source": [
        "# Challenge 4"
      ]
    },
    {
      "cell_type": "code",
      "metadata": {
        "colab": {
          "base_uri": "https://localhost:8080/"
        },
        "id": "zisw6UabEJLk",
        "outputId": "b301ce0c-8833-445f-e06f-8be523450292"
      },
      "source": [
        "angka = int(input('Input: '))\n",
        "print(f'W{\"o\"*angka}w')"
      ],
      "execution_count": 19,
      "outputs": [
        {
          "output_type": "stream",
          "text": [
            "Input: 7\n",
            "Wooooooow\n"
          ],
          "name": "stdout"
        }
      ]
    },
    {
      "cell_type": "markdown",
      "metadata": {
        "id": "8UDcDRzLFbdb"
      },
      "source": [
        "# Challenge 5"
      ]
    },
    {
      "cell_type": "code",
      "metadata": {
        "colab": {
          "base_uri": "https://localhost:8080/"
        },
        "id": "yGD4uCJYFdkI",
        "outputId": "494655ac-da57-4578-a2fb-fe0d95c649d5"
      },
      "source": [
        "while num != 42:\n",
        "  num = int(input())\n",
        "  print(num)"
      ],
      "execution_count": 20,
      "outputs": [
        {
          "output_type": "stream",
          "text": [
            "3\n",
            "3\n",
            "15\n",
            "15\n",
            "52\n",
            "52\n",
            "42\n",
            "42\n"
          ],
          "name": "stdout"
        }
      ]
    },
    {
      "cell_type": "markdown",
      "metadata": {
        "id": "yaJqja9uFd47"
      },
      "source": [
        "# Challenge 6"
      ]
    },
    {
      "cell_type": "code",
      "metadata": {
        "colab": {
          "base_uri": "https://localhost:8080/"
        },
        "id": "9wfHLf3PFfHG",
        "outputId": "3f0e80d8-2557-439f-9c65-b9e35d9ae565"
      },
      "source": [
        "sum = 0\n",
        "for i in range (6):\n",
        "  num = int(input())\n",
        "  sum += num\n",
        "print(int(sum/6))"
      ],
      "execution_count": 22,
      "outputs": [
        {
          "output_type": "stream",
          "text": [
            "3\n",
            "7\n",
            "5\n",
            "2\n",
            "1\n",
            "6\n",
            "4\n"
          ],
          "name": "stdout"
        }
      ]
    },
    {
      "cell_type": "markdown",
      "metadata": {
        "id": "Zow9yHLjFfTR"
      },
      "source": [
        "# Challenge 7"
      ]
    },
    {
      "cell_type": "code",
      "metadata": {
        "colab": {
          "base_uri": "https://localhost:8080/"
        },
        "id": "OC5tSG5OFhLw",
        "outputId": "77379736-7b05-43dd-aeae-b44b24ffc851"
      },
      "source": [
        "tc = int(input('Input: '))\n",
        "for i in range (tc):\n",
        "  n = int(input())\n",
        "  total = 0\n",
        "  while n > 0 :\n",
        "    temp = n%10\n",
        "    total += temp\n",
        "    n = n // 10\n",
        "  print(total)"
      ],
      "execution_count": 23,
      "outputs": [
        {
          "output_type": "stream",
          "text": [
            "Input: 3\n",
            "123123123\n",
            "18\n",
            "3434\n",
            "14\n",
            "1234567890\n",
            "45\n"
          ],
          "name": "stdout"
        }
      ]
    }
  ]
}